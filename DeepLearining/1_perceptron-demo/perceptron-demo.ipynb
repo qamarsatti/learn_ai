{
 "cells": [
  {
   "cell_type": "code",
   "execution_count": null,
   "id": "2a7126cb",
   "metadata": {},
   "outputs": [],
   "source": [
    "import numpy as np\n",
    "import pandas as pd\n",
    "import seaborn as sns\n",
    "import matplotlib.pyplot as plt"
   ]
  },
  {
   "cell_type": "code",
   "execution_count": null,
   "id": "1ee3973c",
   "metadata": {},
   "outputs": [],
   "source": [
    "df = pd.read_csv('../dataset/placement.csv')"
   ]
  },
  {
   "cell_type": "code",
   "execution_count": null,
   "id": "3a9ac35c",
   "metadata": {},
   "outputs": [],
   "source": [
    "print(df.shape)\n",
    "df.head()"
   ]
  },
  {
   "cell_type": "code",
   "execution_count": null,
   "id": "9f812acf",
   "metadata": {},
   "outputs": [],
   "source": [
    "sns.scatterplot(df['cgpa'],df['resume_score'],hue=df['placed'])"
   ]
  },
  {
   "cell_type": "code",
   "execution_count": null,
   "id": "52f99866",
   "metadata": {},
   "outputs": [],
   "source": [
    "X = df.iloc[:,0:2]\n",
    "y = df.iloc[:,-1]"
   ]
  },
  {
   "cell_type": "code",
   "execution_count": null,
   "id": "95683f81",
   "metadata": {},
   "outputs": [],
   "source": [
    "from sklearn.linear_model import Perceptron\n",
    "p = Perceptron()"
   ]
  },
  {
   "cell_type": "code",
   "execution_count": null,
   "id": "09a7b5fd",
   "metadata": {},
   "outputs": [],
   "source": [
    "p.fit(X,y)"
   ]
  },
  {
   "cell_type": "code",
   "execution_count": null,
   "id": "e40c79f2",
   "metadata": {},
   "outputs": [],
   "source": [
    "p.coef_"
   ]
  },
  {
   "cell_type": "code",
   "execution_count": null,
   "id": "8e69e78f",
   "metadata": {},
   "outputs": [],
   "source": [
    "p.intercept_"
   ]
  },
  {
   "cell_type": "code",
   "execution_count": null,
   "id": "6b324e06",
   "metadata": {},
   "outputs": [],
   "source": [
    "from mlxtend.plotting import plot_decision_regions"
   ]
  },
  {
   "cell_type": "code",
   "execution_count": null,
   "id": "1e3e0be3",
   "metadata": {},
   "outputs": [],
   "source": [
    "plot_decision_regions(X.values, y.values, clf=p, legend=2)"
   ]
  }
 ],
 "metadata": {
  "kernelspec": {
   "display_name": "Python 3",
   "language": "python",
   "name": "python3"
  },
  "language_info": {
   "codemirror_mode": {
    "name": "ipython",
    "version": 3
   },
   "file_extension": ".py",
   "mimetype": "text/x-python",
   "name": "python",
   "nbconvert_exporter": "python",
   "pygments_lexer": "ipython3",
   "version": "3.11.2"
  }
 },
 "nbformat": 4,
 "nbformat_minor": 5
}
