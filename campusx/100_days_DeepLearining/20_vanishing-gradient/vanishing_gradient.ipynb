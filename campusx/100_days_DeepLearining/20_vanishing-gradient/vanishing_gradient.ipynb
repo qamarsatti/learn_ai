{
  "cells": [
    {
      "cell_type": "code",
      "execution_count": null,
      "metadata": {
        "id": "IFGFeZeCSUIX"
      },
      "outputs": [],
      "source": [
        "import matplotlib.pyplot as plt\n",
        "import numpy as np\n",
        "import pandas as pd\n",
        "import tensorflow as tf\n",
        "import keras\n",
        "from sklearn.datasets import make_moons\n",
        "from sklearn.model_selection import train_test_split\n",
        "from keras.layers import Dense\n",
        "from keras.models import Sequential"
      ]
    },
    {
      "cell_type": "code",
      "execution_count": null,
      "metadata": {
        "id": "VNiEr_mpSkTO"
      },
      "outputs": [],
      "source": [
        "X,y = make_moons(n_samples=250, noise=0.05, random_state=42)"
      ]
    },
    {
      "cell_type": "code",
      "execution_count": null,
      "metadata": {
        "colab": {
          "base_uri": "https://localhost:8080/",
          "height": 265
        },
        "id": "UVpq7UCcTTA6",
        "outputId": "0ccd48a9-4d6a-4aa7-8249-8501d0132444"
      },
      "outputs": [],
      "source": [
        "plt.scatter(X[:,0],X[:,1], c=y, s=100)\n",
        "plt.show()"
      ]
    },
    {
      "cell_type": "code",
      "execution_count": null,
      "metadata": {
        "id": "tzfO3jquTVyY"
      },
      "outputs": [],
      "source": [
        "model = Sequential()\n",
        "\n",
        "model.add(Dense(10,activation='sigmoid',input_dim=2))\n",
        "model.add(Dense(10,activation='sigmoid'))\n",
        "model.add(Dense(10,activation='sigmoid'))\n",
        "model.add(Dense(1, activation='sigmoid'))"
      ]
    },
    {
      "cell_type": "code",
      "execution_count": null,
      "metadata": {
        "id": "bzYYyQhhUAbJ"
      },
      "outputs": [],
      "source": [
        "model.compile(loss='binary_crossentropy',optimizer='adam',metrics=['accuracy'])"
      ]
    },
    {
      "cell_type": "code",
      "execution_count": null,
      "metadata": {
        "colab": {
          "base_uri": "https://localhost:8080/"
        },
        "id": "CI5zBIvv3x5e",
        "outputId": "915901ed-1520-4748-ebbd-35f613b6791a"
      },
      "outputs": [],
      "source": [
        "model.get_weights()[0]"
      ]
    },
    {
      "cell_type": "code",
      "execution_count": null,
      "metadata": {
        "id": "_0MskkInUhLT"
      },
      "outputs": [],
      "source": [
        "old_weights = model.get_weights()[0]"
      ]
    },
    {
      "cell_type": "code",
      "execution_count": null,
      "metadata": {
        "id": "TaYrBqJvVePG"
      },
      "outputs": [],
      "source": [
        "X_train, X_test, y_train, y_test = train_test_split(X, y, test_size=0.20, random_state=42)"
      ]
    },
    {
      "cell_type": "code",
      "execution_count": null,
      "metadata": {
        "colab": {
          "base_uri": "https://localhost:8080/"
        },
        "id": "ouf7UIKiV7hr",
        "outputId": "225985d9-84f0-4baa-b5b3-90a97d757327"
      },
      "outputs": [],
      "source": [
        "model.fit(X_train, y_train, epochs = 100)"
      ]
    },
    {
      "cell_type": "code",
      "execution_count": null,
      "metadata": {
        "id": "J6PwGDAvUGGg"
      },
      "outputs": [],
      "source": [
        "new_weights = model.get_weights()[0]"
      ]
    },
    {
      "cell_type": "code",
      "execution_count": null,
      "metadata": {
        "colab": {
          "base_uri": "https://localhost:8080/"
        },
        "id": "rgu2pr0lWdDu",
        "outputId": "e6d4d5b3-4d68-476d-f2c1-bdecb9aa22df"
      },
      "outputs": [],
      "source": [
        "model.optimizer.get_config()[\"learning_rate\"]"
      ]
    },
    {
      "cell_type": "code",
      "execution_count": null,
      "metadata": {
        "id": "dp5IJsE-WI7w"
      },
      "outputs": [],
      "source": [
        "gradient = (old_weights - new_weights)/ 0.001\n",
        "percent_change = abs(100*(old_weights - new_weights)/ old_weights)"
      ]
    },
    {
      "cell_type": "code",
      "execution_count": null,
      "metadata": {
        "colab": {
          "base_uri": "https://localhost:8080/"
        },
        "id": "Av5OspqLWl0r",
        "outputId": "4f3b4f6b-56e8-4271-9d9c-65703db844cc"
      },
      "outputs": [],
      "source": [
        "gradient"
      ]
    },
    {
      "cell_type": "code",
      "execution_count": null,
      "metadata": {
        "colab": {
          "base_uri": "https://localhost:8080/"
        },
        "id": "YJsZpaeoWm-8",
        "outputId": "807dc184-605d-482f-8b17-96cdb9a95aaa"
      },
      "outputs": [],
      "source": [
        "percent_change"
      ]
    },
    {
      "cell_type": "code",
      "execution_count": null,
      "metadata": {
        "colab": {
          "base_uri": "https://localhost:8080/"
        },
        "id": "5Uu6DITscBx5",
        "outputId": "e15e6498-5011-4db4-fe42-33ea2cf20f74"
      },
      "outputs": [],
      "source": [
        "old_weights"
      ]
    },
    {
      "cell_type": "code",
      "execution_count": null,
      "metadata": {
        "colab": {
          "base_uri": "https://localhost:8080/"
        },
        "id": "72YfOy_-cEPj",
        "outputId": "3fb85c31-3033-4039-f30c-d12200df2b37"
      },
      "outputs": [],
      "source": [
        "new_weights"
      ]
    },
    {
      "cell_type": "code",
      "execution_count": null,
      "metadata": {
        "id": "nihtN5tYWqRR"
      },
      "outputs": [],
      "source": [
        "model = Sequential()\n",
        "\n",
        "model.add(Dense(10,activation='relu',input_dim=2))\n",
        "model.add(Dense(10,activation='relu'))\n",
        "model.add(Dense(10,activation='relu'))\n",
        "model.add(Dense(10,activation='relu'))\n",
        "model.add(Dense(10,activation='relu'))\n",
        "model.add(Dense(10,activation='relu'))\n",
        "model.add(Dense(10,activation='relu'))\n",
        "model.add(Dense(10,activation='relu'))\n",
        "model.add(Dense(10,activation='relu'))\n",
        "model.add(Dense(10,activation='relu'))\n",
        "model.add(Dense(10,activation='relu'))\n",
        "model.add(Dense(1, activation='sigmoid'))"
      ]
    },
    {
      "cell_type": "code",
      "execution_count": null,
      "metadata": {
        "id": "btOwuajlakTh"
      },
      "outputs": [],
      "source": [
        "model.compile(loss='binary_crossentropy',optimizer='adam',metrics=['accuracy'])"
      ]
    },
    {
      "cell_type": "code",
      "execution_count": null,
      "metadata": {
        "id": "fqGsgRFOanlJ"
      },
      "outputs": [],
      "source": [
        "old_weights = model.get_weights()[0]"
      ]
    },
    {
      "cell_type": "code",
      "execution_count": null,
      "metadata": {
        "id": "Wsafrolvap9R"
      },
      "outputs": [],
      "source": [
        "X_train, X_test, y_train, y_test = train_test_split(X, y, test_size=0.20, random_state=42)"
      ]
    },
    {
      "cell_type": "code",
      "execution_count": null,
      "metadata": {
        "colab": {
          "base_uri": "https://localhost:8080/"
        },
        "id": "nwFILWxLasTl",
        "outputId": "eb1e6260-4a7e-4e19-f3ef-607aee952468"
      },
      "outputs": [],
      "source": [
        "model.fit(X_train, y_train, epochs = 100)"
      ]
    },
    {
      "cell_type": "code",
      "execution_count": null,
      "metadata": {
        "id": "XwFICdC4aubt"
      },
      "outputs": [],
      "source": [
        "new_weights = model.get_weights()[0]"
      ]
    },
    {
      "cell_type": "code",
      "execution_count": null,
      "metadata": {
        "colab": {
          "base_uri": "https://localhost:8080/"
        },
        "id": "sVKywUK2axYB",
        "outputId": "af7ad4e8-9663-4d93-874a-502c7131f0d1"
      },
      "outputs": [],
      "source": [
        "model.optimizer.get_config()[\"learning_rate\"]"
      ]
    },
    {
      "cell_type": "code",
      "execution_count": null,
      "metadata": {
        "id": "RFiBr47yazsA"
      },
      "outputs": [],
      "source": [
        "gradient = (old_weights - new_weights)/ 0.001\n",
        "percent_change = abs(100*(old_weights - new_weights)/ old_weights)"
      ]
    },
    {
      "cell_type": "code",
      "execution_count": null,
      "metadata": {
        "colab": {
          "base_uri": "https://localhost:8080/"
        },
        "id": "ivFmVMQWa2Vw",
        "outputId": "051c5cf4-9d7e-42d0-84cc-67c25218a84f"
      },
      "outputs": [],
      "source": [
        "gradient"
      ]
    },
    {
      "cell_type": "code",
      "execution_count": null,
      "metadata": {
        "colab": {
          "base_uri": "https://localhost:8080/"
        },
        "id": "WGELmjRHa42h",
        "outputId": "06a77640-c519-4c46-8b0e-9d9672c9117a"
      },
      "outputs": [],
      "source": [
        "percent_change"
      ]
    },
    {
      "cell_type": "code",
      "execution_count": null,
      "metadata": {
        "colab": {
          "base_uri": "https://localhost:8080/"
        },
        "id": "twVvX_-qa70F",
        "outputId": "015d13c0-c631-4bae-bca9-73b5405d0ffe"
      },
      "outputs": [],
      "source": [
        "old_weights"
      ]
    },
    {
      "cell_type": "code",
      "execution_count": null,
      "metadata": {
        "colab": {
          "base_uri": "https://localhost:8080/"
        },
        "id": "Cy_6H27scOnh",
        "outputId": "a57826c5-a358-4f47-8e83-48c08c0949a6"
      },
      "outputs": [],
      "source": [
        "new_weights"
      ]
    }
  ],
  "metadata": {
    "colab": {
      "provenance": []
    },
    "kernelspec": {
      "display_name": "Python 3",
      "name": "python3"
    },
    "language_info": {
      "codemirror_mode": {
        "name": "ipython",
        "version": 3
      },
      "file_extension": ".py",
      "mimetype": "text/x-python",
      "name": "python",
      "nbconvert_exporter": "python",
      "pygments_lexer": "ipython3",
      "version": "3.11.2"
    }
  },
  "nbformat": 4,
  "nbformat_minor": 0
}
