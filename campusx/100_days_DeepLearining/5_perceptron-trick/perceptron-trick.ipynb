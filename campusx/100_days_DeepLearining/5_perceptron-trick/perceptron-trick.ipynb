{
 "cells": [
  {
   "cell_type": "code",
   "execution_count": null,
   "id": "ee172efc",
   "metadata": {},
   "outputs": [],
   "source": [
    "from sklearn.datasets import make_classification\n",
    "import numpy as np\n",
    "X, y = make_classification(n_samples=100, n_features=2, n_informative=1,n_redundant=0,\n",
    "                           n_classes=2, n_clusters_per_class=1, random_state=41,hypercube=False,class_sep=10)"
   ]
  },
  {
   "cell_type": "code",
   "execution_count": null,
   "id": "d7a45641",
   "metadata": {},
   "outputs": [],
   "source": [
    "import matplotlib.pyplot as plt"
   ]
  },
  {
   "cell_type": "code",
   "execution_count": null,
   "id": "ae7afc03",
   "metadata": {},
   "outputs": [],
   "source": [
    "import numpy as np\n",
    "np.insert(X,0,4,axis=1)"
   ]
  },
  {
   "cell_type": "code",
   "execution_count": null,
   "id": "ed679e9e",
   "metadata": {},
   "outputs": [],
   "source": [
    "plt.figure(figsize=(10,6))\n",
    "plt.scatter(X[:,0],X[:,1],c=y,cmap='winter',s=100)"
   ]
  },
  {
   "cell_type": "code",
   "execution_count": null,
   "id": "7d1c2d27",
   "metadata": {},
   "outputs": [],
   "source": [
    "def step(z):\n",
    "    return 1 if z>0 else 0"
   ]
  },
  {
   "cell_type": "code",
   "execution_count": null,
   "metadata": {},
   "outputs": [],
   "source": [
    "np.random.randint(0,100)\n"
   ]
  },
  {
   "cell_type": "code",
   "execution_count": null,
   "id": "486da43e",
   "metadata": {},
   "outputs": [],
   "source": [
    "def perceptron(X,y):\n",
    "    \n",
    "    X = np.insert(X,0,1,axis=1)\n",
    "    weights = np.ones(X.shape[1])\n",
    "    lr = 0.1\n",
    "    \n",
    "    for i in range(100):\n",
    "        j = np.random.randint(0,100)\n",
    "        y_hat = step(np.dot(X[j],weights))\n",
    "        weights = weights + lr*(y[j]-y_hat)*X[j]\n",
    "        \n",
    "    return weights[0],weights[1:]\n",
    "        "
   ]
  },
  {
   "cell_type": "code",
   "execution_count": null,
   "id": "ab833977",
   "metadata": {},
   "outputs": [],
   "source": []
  },
  {
   "cell_type": "code",
   "execution_count": null,
   "id": "5dd270cc",
   "metadata": {},
   "outputs": [],
   "source": [
    "intercept_,coef_ = perceptron(X,y)"
   ]
  },
  {
   "cell_type": "code",
   "execution_count": null,
   "id": "98ec6719",
   "metadata": {},
   "outputs": [],
   "source": [
    "print(coef_)\n",
    "print(intercept_)"
   ]
  },
  {
   "cell_type": "code",
   "execution_count": null,
   "id": "542af1e7",
   "metadata": {},
   "outputs": [],
   "source": [
    "m = -(coef_[0]/coef_[1])\n",
    "b = -(intercept_/coef_[1])"
   ]
  },
  {
   "cell_type": "code",
   "execution_count": null,
   "id": "64f99f46",
   "metadata": {},
   "outputs": [],
   "source": [
    "x_input = np.linspace(-3,3,100)\n",
    "y_input = m*x_input + b"
   ]
  },
  {
   "cell_type": "code",
   "execution_count": null,
   "id": "c477f6aa",
   "metadata": {},
   "outputs": [],
   "source": [
    "plt.figure(figsize=(10,6))\n",
    "plt.plot(x_input,y_input,color='red',linewidth=3)\n",
    "plt.scatter(X[:,0],X[:,1],c=y,cmap='winter',s=100)\n",
    "plt.ylim(-3,2)"
   ]
  },
  {
   "cell_type": "code",
   "execution_count": null,
   "id": "5961f4a9",
   "metadata": {},
   "outputs": [],
   "source": []
  }
 ],
 "metadata": {
  "kernelspec": {
   "display_name": "Python 3",
   "language": "python",
   "name": "python3"
  },
  "language_info": {
   "codemirror_mode": {
    "name": "ipython",
    "version": 3
   },
   "file_extension": ".py",
   "mimetype": "text/x-python",
   "name": "python",
   "nbconvert_exporter": "python",
   "pygments_lexer": "ipython3",
   "version": "3.11.2"
  }
 },
 "nbformat": 4,
 "nbformat_minor": 5
}
