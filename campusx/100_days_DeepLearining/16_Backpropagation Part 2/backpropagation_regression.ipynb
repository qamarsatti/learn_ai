{
  "cells": [
    {
      "cell_type": "code",
      "execution_count": null,
      "metadata": {
        "id": "lgnPvgw8DyOq"
      },
      "outputs": [],
      "source": [
        "import numpy as np\n",
        "import pandas as pd"
      ]
    },
    {
      "cell_type": "code",
      "execution_count": null,
      "metadata": {
        "id": "iznsv0cPD4N2"
      },
      "outputs": [],
      "source": [
        "df = pd.DataFrame([[8,8,4],[7,9,5],[6,10,6],[5,12,7]], columns=['cgpa', 'profile_score', 'lpa'])"
      ]
    },
    {
      "cell_type": "code",
      "execution_count": null,
      "metadata": {
        "colab": {
          "base_uri": "https://localhost:8080/",
          "height": 175
        },
        "id": "Icg8cssxEJ4U",
        "outputId": "faf04b08-f325-4e7c-eba6-e002fd3fbc9f"
      },
      "outputs": [],
      "source": [
        "df"
      ]
    },
    {
      "cell_type": "code",
      "execution_count": null,
      "metadata": {
        "id": "gOL7f79VEKQn"
      },
      "outputs": [],
      "source": [
        "def initialize_parameters(layer_dims):\n",
        "\n",
        "  np.random.seed(3)\n",
        "  parameters = {}\n",
        "  L = len(layer_dims)\n",
        "\n",
        "  for l in range(1, L):\n",
        "\n",
        "    parameters['W' + str(l)] = np.ones((layer_dims[l-1], layer_dims[l]))*0.1\n",
        "    parameters['b' + str(l)] = np.zeros((layer_dims[l], 1))\n",
        "\n",
        "\n",
        "  return parameters"
      ]
    },
    {
      "cell_type": "code",
      "execution_count": null,
      "metadata": {
        "colab": {
          "base_uri": "https://localhost:8080/"
        },
        "id": "VkduRBgNIp-z",
        "outputId": "c0c32750-846b-499c-fc16-9f542ad3cdd0"
      },
      "outputs": [],
      "source": [
        "initialize_parameters([2,2,1])"
      ]
    },
    {
      "cell_type": "code",
      "execution_count": null,
      "metadata": {
        "id": "ZghmdgJzEg0D"
      },
      "outputs": [],
      "source": [
        "def linear_forward(A_prev, W, b):\n",
        "\n",
        "  Z = np.dot(W.T, A_prev) + b\n",
        "\n",
        "  return Z"
      ]
    },
    {
      "cell_type": "code",
      "execution_count": null,
      "metadata": {
        "id": "5n5DFL99Gacw"
      },
      "outputs": [],
      "source": [
        "# Forward Prop\n",
        "def L_layer_forward(X, parameters):\n",
        "\n",
        "  A = X\n",
        "  L = len(parameters) // 2                  # number of layers in the neural network\n",
        "\n",
        "  for l in range(1, L+1):\n",
        "    A_prev = A\n",
        "    Wl = parameters['W' + str(l)]\n",
        "    bl = parameters['b' + str(l)]\n",
        "    #print(\"A\"+str(l-1)+\": \", A_prev)\n",
        "    #print(\"W\"+str(l)+\": \", Wl)\n",
        "    #print(\"b\"+str(l)+\": \", bl)\n",
        "    #print(\"--\"*20)\n",
        "\n",
        "    A = linear_forward(A_prev, Wl, bl)\n",
        "    #print(\"A\"+str(l)+\": \", A)\n",
        "    #print(\"**\"*20)\n",
        "\n",
        "  return A,A_prev"
      ]
    },
    {
      "cell_type": "code",
      "execution_count": null,
      "metadata": {
        "colab": {
          "base_uri": "https://localhost:8080/"
        },
        "id": "5ijULWqvJu0O",
        "outputId": "195c3602-d8a5-44a4-d224-278cd274a0ec"
      },
      "outputs": [],
      "source": [
        "X = df[['cgpa', 'profile_score']].values[0].reshape(2,1) # Shape(no of features, no. of training example)\n",
        "y = df[['lpa']].values[0][0]\n",
        "\n",
        "# Parameter initialization\n",
        "parameters = initialize_parameters([2,2,1])\n",
        "\n",
        "y_hat,A1 = L_layer_forward(X, parameters)"
      ]
    },
    {
      "cell_type": "code",
      "execution_count": null,
      "metadata": {
        "id": "ZrhNecsGML3E"
      },
      "outputs": [],
      "source": [
        "y_hat = y_hat[0][0]"
      ]
    },
    {
      "cell_type": "code",
      "execution_count": null,
      "metadata": {
        "colab": {
          "base_uri": "https://localhost:8080/"
        },
        "id": "fWPvGGQcJ-Wq",
        "outputId": "2700de8a-b50d-4183-f277-0b21a5210def"
      },
      "outputs": [],
      "source": [
        "A1"
      ]
    },
    {
      "cell_type": "code",
      "execution_count": null,
      "metadata": {},
      "outputs": [],
      "source": [
        "def update_parameters(parameters,y,y_hat,A1,X):\n",
        "  parameters['W2'][0][0] = parameters['W2'][0][0] + (0.001 * 2 * (y - y_hat)*A1[0][0])\n",
        "  parameters['W2'][1][0] = parameters['W2'][1][0] + (0.001 * 2 * (y - y_hat)*A1[1][0])\n",
        "  parameters['b2'][0][0] = parameters['W2'][1][0] + (0.001 * 2 * (y - y_hat))\n",
        "\n",
        "  parameters['W1'][0][0] = parameters['W1'][0][0] + (0.001 * 2 * (y - y_hat)*parameters['W2'][0][0]*X[0][0])\n",
        "  parameters['W1'][0][1] = parameters['W1'][0][1] + (0.001 * 2 * (y - y_hat)*parameters['W2'][0][0]*X[1][0])\n",
        "  parameters['b1'][0][0] = parameters['b1'][0][0] + (0.001 * 2 * (y - y_hat)*parameters['W2'][0][0])\n",
        "\n",
        "  parameters['W1'][1][0] = parameters['W1'][1][0] + (0.001 * 2 * (y - y_hat)*parameters['W2'][1][0]*X[0][0])\n",
        "  parameters['W1'][1][1] = parameters['W1'][1][1] + (0.001 * 2 * (y - y_hat)*parameters['W2'][1][0]*X[1][0])\n",
        "  parameters['b1'][1][0] = parameters['b1'][1][0] + (0.001 * 2 * (y - y_hat)*parameters['W2'][1][0])"
      ]
    },
    {
      "cell_type": "code",
      "execution_count": null,
      "metadata": {
        "id": "EQWgVKAyNIr2"
      },
      "outputs": [],
      "source": [
        "update_parameters(parameters,y,y_hat,A1,X)"
      ]
    },
    {
      "cell_type": "code",
      "execution_count": null,
      "metadata": {
        "colab": {
          "base_uri": "https://localhost:8080/"
        },
        "id": "sTSNat7KNTm7",
        "outputId": "f3d3d349-c993-4d2f-a720-48e0e8433db9"
      },
      "outputs": [],
      "source": [
        "parameters"
      ]
    },
    {
      "cell_type": "code",
      "execution_count": null,
      "metadata": {
        "colab": {
          "base_uri": "https://localhost:8080/"
        },
        "id": "bT36dOGNNijU",
        "outputId": "050e03e6-b792-474e-b4ad-a41c07ab6687"
      },
      "outputs": [],
      "source": [
        "X = df[['cgpa', 'profile_score']].values[3].reshape(2,1) # Shape(no of features, no. of training example)\n",
        "y = df[['lpa']].values[3][0]\n",
        "\n",
        "y_hat,A1 = L_layer_forward(X, parameters)"
      ]
    },
    {
      "cell_type": "code",
      "execution_count": null,
      "metadata": {
        "id": "kXN473kWNq2F"
      },
      "outputs": [],
      "source": [
        "update_parameters(parameters,y,y_hat,A1,X)"
      ]
    },
    {
      "cell_type": "code",
      "execution_count": null,
      "metadata": {
        "colab": {
          "base_uri": "https://localhost:8080/"
        },
        "id": "hjKso9pQNti8",
        "outputId": "56ff54b1-5b11-44d2-974e-849989291bad"
      },
      "outputs": [],
      "source": [
        "parameters"
      ]
    },
    {
      "cell_type": "code",
      "execution_count": null,
      "metadata": {
        "colab": {
          "base_uri": "https://localhost:8080/"
        },
        "id": "y-gTVDlsYoFm",
        "outputId": "f594df70-332f-4144-e903-870185a4a1a5"
      },
      "outputs": [],
      "source": [
        "X = df[['cgpa', 'profile_score']].values[0].reshape(2,1) # Shape(no of features, no. of training example)\n",
        "y = df[['lpa']].values[0][0]\n",
        "\n",
        "# Parameter initialization\n",
        "parameters = initialize_parameters([2,2,1])\n",
        "\n",
        "y_hat,A1 = L_layer_forward(X,parameters)\n",
        "y_hat = y_hat[0][0]\n",
        "\n",
        "update_parameters(parameters,y,y_hat,A1,X)\n",
        "\n",
        "parameters"
      ]
    },
    {
      "cell_type": "code",
      "execution_count": null,
      "metadata": {
        "colab": {
          "base_uri": "https://localhost:8080/"
        },
        "id": "jgrNh8YGexbz",
        "outputId": "8518ae78-89b3-49aa-9f31-efe95ac3e949"
      },
      "outputs": [],
      "source": [
        "X = df[['cgpa', 'profile_score']].values[1].reshape(2,1) # Shape(no of features, no. of training exaplme)\n",
        "y = df[['lpa']].values[1][0]\n",
        "\n",
        "y_hat,A1 = L_layer_forward(X,parameters)\n",
        "y_hat = y_hat[0][0]\n",
        "\n",
        "update_parameters(parameters,y,y_hat,A1,X)\n",
        "\n",
        "parameters"
      ]
    },
    {
      "cell_type": "code",
      "execution_count": null,
      "metadata": {
        "colab": {
          "base_uri": "https://localhost:8080/"
        },
        "id": "7QAO9dunfCPn",
        "outputId": "8b5f3eb6-7d5e-4454-86ac-67e7d91ed899"
      },
      "outputs": [],
      "source": [
        "X = df[['cgpa', 'profile_score']].values[2].reshape(2,1) # Shape(no of features, no. of training exaplme)\n",
        "y = df[['lpa']].values[2][0]\n",
        "\n",
        "y_hat,A1 = L_layer_forward(X,parameters)\n",
        "y_hat = y_hat[0][0]\n",
        "\n",
        "update_parameters(parameters,y,y_hat,A1,X)\n",
        "\n",
        "parameters"
      ]
    },
    {
      "cell_type": "code",
      "execution_count": null,
      "metadata": {
        "colab": {
          "base_uri": "https://localhost:8080/"
        },
        "id": "vog84hecfGI7",
        "outputId": "09e6fcb3-2534-468f-e5f5-89e4743097d4"
      },
      "outputs": [],
      "source": [
        "X = df[['cgpa', 'profile_score']].values[3].reshape(2,1) # Shape(no of features, no. of training exaplme)\n",
        "y = df[['lpa']].values[3][0]\n",
        "\n",
        "y_hat,A1 = L_layer_forward(X,parameters)\n",
        "y_hat = y_hat[0][0]\n",
        "\n",
        "update_parameters(parameters,y,y_hat,A1,X)\n",
        "\n",
        "parameters"
      ]
    },
    {
      "cell_type": "code",
      "execution_count": null,
      "metadata": {
        "colab": {
          "base_uri": "https://localhost:8080/"
        },
        "id": "S-ZcZmJafwkc",
        "outputId": "8af42b77-b968-4b76-e598-8e6006a56219"
      },
      "outputs": [],
      "source": [
        "# epochs implementation\n",
        "\n",
        "parameters = initialize_parameters([2,2,1])\n",
        "epochs = 5\n",
        "\n",
        "for i in range(epochs):\n",
        "\n",
        "  Loss = []\n",
        "\n",
        "  for j in range(df.shape[0]):\n",
        "\n",
        "    X = df[['cgpa', 'profile_score']].values[j].reshape(2,1) # Shape(no of features, no. of training example)\n",
        "    y = df[['lpa']].values[j][0]\n",
        "\n",
        "    # Parameter initialization\n",
        "\n",
        "\n",
        "    y_hat,A1 = L_layer_forward(X,parameters)\n",
        "    y_hat = y_hat[0][0]\n",
        "\n",
        "    update_parameters(parameters,y,y_hat,A1,X)\n",
        "\n",
        "    Loss.append((y-y_hat)**2)\n",
        "\n",
        "  print('Epoch - ',i+1,'Loss - ',np.array(Loss).mean())\n",
        "\n",
        "parameters"
      ]
    },
    {
      "cell_type": "code",
      "execution_count": null,
      "metadata": {
        "id": "R_J6XCJbU_x5"
      },
      "outputs": [],
      "source": []
    }
  ],
  "metadata": {
    "colab": {
      "provenance": []
    },
    "kernelspec": {
      "display_name": "Python 3",
      "name": "python3"
    },
    "language_info": {
      "codemirror_mode": {
        "name": "ipython",
        "version": 3
      },
      "file_extension": ".py",
      "mimetype": "text/x-python",
      "name": "python",
      "nbconvert_exporter": "python",
      "pygments_lexer": "ipython3",
      "version": "3.11.2"
    }
  },
  "nbformat": 4,
  "nbformat_minor": 0
}
