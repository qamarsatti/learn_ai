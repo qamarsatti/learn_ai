{
  "cells": [
    {
      "cell_type": "code",
      "execution_count": null,
      "metadata": {
        "id": "EZd6rozL3VIM"
      },
      "outputs": [],
      "source": [
        "import numpy as np\n",
        "import pandas as pd\n",
        "import matplotlib.pyplot as plt"
      ]
    },
    {
      "cell_type": "code",
      "execution_count": null,
      "metadata": {
        "colab": {
          "base_uri": "https://localhost:8080/",
          "height": 338
        },
        "id": "-0CJPXS83kxQ",
        "outputId": "2c9d7fb0-2644-4aed-9cc8-f44bcbd5fbc2"
      },
      "outputs": [],
      "source": [
        "df = pd.read_csv('../dataset/ushape.csv')"
      ]
    },
    {
      "cell_type": "code",
      "execution_count": null,
      "metadata": {
        "colab": {
          "base_uri": "https://localhost:8080/",
          "height": 206
        },
        "id": "yjwHpySv3nD6",
        "outputId": "0d452dcf-eed6-4304-c126-9d57bdc3f52c"
      },
      "outputs": [],
      "source": [
        "df.head()"
      ]
    },
    {
      "cell_type": "code",
      "execution_count": null,
      "metadata": {
        "colab": {
          "base_uri": "https://localhost:8080/",
          "height": 283
        },
        "id": "gzRfDEgj3nzK",
        "outputId": "a42e8ce8-679b-4d42-a01f-41a378e793c0"
      },
      "outputs": [],
      "source": [
        "plt.scatter(df['X'],df['Y'],c=df['class'])"
      ]
    },
    {
      "cell_type": "code",
      "execution_count": null,
      "metadata": {
        "id": "VueL_H_-4Fxr"
      },
      "outputs": [],
      "source": [
        "X = df.iloc[:,0:2].values\n",
        "y = df.iloc[:,-1].values"
      ]
    },
    {
      "cell_type": "code",
      "execution_count": null,
      "metadata": {
        "id": "aLJYMP274XIV"
      },
      "outputs": [],
      "source": [
        "import tensorflow\n",
        "from tensorflow import keras\n",
        "from keras import Sequential\n",
        "from keras.layers import Dense"
      ]
    },
    {
      "cell_type": "code",
      "execution_count": null,
      "metadata": {
        "colab": {
          "base_uri": "https://localhost:8080/"
        },
        "id": "Ec6aw2ft4nj2",
        "outputId": "80d399e4-b4b3-4a55-b3cc-cbf10b9f86b5"
      },
      "outputs": [],
      "source": [
        "model = Sequential()\n",
        "\n",
        "model.add(Dense(10,activation='sigmoid',input_dim=2))\n",
        "model.add(Dense(1,activation='sigmoid'))\n",
        "\n",
        "model.summary()"
      ]
    },
    {
      "cell_type": "code",
      "execution_count": null,
      "metadata": {
        "colab": {
          "base_uri": "https://localhost:8080/"
        },
        "id": "UiC2zbhh5E7u",
        "outputId": "4609c67b-fbf8-43f7-fb2f-bdd2ce92fe60"
      },
      "outputs": [],
      "source": [
        "# Set parameters to 0\n",
        "model.get_weights()"
      ]
    },
    {
      "cell_type": "code",
      "execution_count": null,
      "metadata": {
        "id": "d2FB7EP46PXy"
      },
      "outputs": [],
      "source": [
        "initial_weights = model.get_weights()"
      ]
    },
    {
      "cell_type": "code",
      "execution_count": null,
      "metadata": {
        "id": "Bik184Ij5aQJ"
      },
      "outputs": [],
      "source": [
        "initial_weights[0] = np.zeros(model.get_weights()[0].shape)\n",
        "initial_weights[1] = np.zeros(model.get_weights()[1].shape)\n",
        "initial_weights[2] = np.zeros(model.get_weights()[2].shape)\n",
        "initial_weights[3] = np.zeros(model.get_weights()[3].shape)"
      ]
    },
    {
      "cell_type": "code",
      "execution_count": null,
      "metadata": {
        "id": "-u1RIZ_W5fXK"
      },
      "outputs": [],
      "source": [
        "model.set_weights(initial_weights)"
      ]
    },
    {
      "cell_type": "code",
      "execution_count": null,
      "metadata": {
        "colab": {
          "base_uri": "https://localhost:8080/"
        },
        "id": "ryIDZEQs6fOa",
        "outputId": "98586a26-3422-4b4a-801c-d9f650abd17d"
      },
      "outputs": [],
      "source": [
        "model.get_weights()"
      ]
    },
    {
      "cell_type": "code",
      "execution_count": null,
      "metadata": {
        "id": "6Vm5Nvfm6hkn"
      },
      "outputs": [],
      "source": [
        "model.compile(loss='binary_crossentropy',optimizer='adam',metrics=['accuracy'])"
      ]
    },
    {
      "cell_type": "code",
      "execution_count": null,
      "metadata": {
        "colab": {
          "base_uri": "https://localhost:8080/"
        },
        "id": "-p_KvM6e62Xe",
        "outputId": "4ae45e3d-fe25-4fd2-d854-4832660db650"
      },
      "outputs": [],
      "source": [
        "history = model.fit(X,y,epochs=100,validation_split=0.2)"
      ]
    },
    {
      "cell_type": "code",
      "execution_count": null,
      "metadata": {
        "colab": {
          "base_uri": "https://localhost:8080/"
        },
        "id": "Y58LpwyB7HBr",
        "outputId": "d45719c1-8694-4f32-ef4c-8a7b302b1aba"
      },
      "outputs": [],
      "source": [
        "model.get_weights()"
      ]
    },
    {
      "cell_type": "code",
      "execution_count": null,
      "metadata": {
        "colab": {
          "base_uri": "https://localhost:8080/",
          "height": 338
        },
        "id": "9_DuSK3N7PDE",
        "outputId": "ad88b79f-6d43-4a76-fcaf-74844d79bdd0"
      },
      "outputs": [],
      "source": [
        "from mlxtend.plotting import plot_decision_regions\n",
        "plot_decision_regions(X,y.astype('int'), clf=model, legend=2)"
      ]
    },
    {
      "cell_type": "code",
      "execution_count": null,
      "metadata": {
        "id": "hof12Hqs7oya"
      },
      "outputs": [],
      "source": [
        "\n"
      ]
    },
    {
      "cell_type": "code",
      "execution_count": null,
      "metadata": {
        "id": "a2nPmjYs74uY"
      },
      "outputs": [],
      "source": []
    }
  ],
  "metadata": {
    "colab": {
      "provenance": []
    },
    "kernelspec": {
      "display_name": "Python 3",
      "name": "python3"
    },
    "language_info": {
      "codemirror_mode": {
        "name": "ipython",
        "version": 3
      },
      "file_extension": ".py",
      "mimetype": "text/x-python",
      "name": "python",
      "nbconvert_exporter": "python",
      "pygments_lexer": "ipython3",
      "version": "3.10.12"
    }
  },
  "nbformat": 4,
  "nbformat_minor": 0
}
