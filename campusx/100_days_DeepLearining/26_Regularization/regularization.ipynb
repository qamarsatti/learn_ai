{
  "cells": [
    {
      "cell_type": "code",
      "execution_count": null,
      "metadata": {
        "id": "XEEU0bzZCrec"
      },
      "outputs": [],
      "source": [
        "import numpy as np\n",
        "import matplotlib.pyplot as plt\n",
        "from sklearn.datasets import make_moons\n",
        "import seaborn as sns\n",
        "from mlxtend.plotting import plot_decision_regions\n",
        "\n",
        "import tensorflow\n",
        "from tensorflow.python.keras.models import Sequential\n",
        "from tensorflow.python.keras.layers import Dense\n",
        "from tensorflow.python.keras.layers import Dropout\n",
        "from tensorflow.python.keras.optimizers import adam_v2\n",
        "from sklearn.model_selection import train_test_split"
      ]
    },
    {
      "cell_type": "code",
      "execution_count": null,
      "metadata": {
        "id": "lpjYZPGlCsRy"
      },
      "outputs": [],
      "source": [
        "X, y = make_moons(100, noise=0.25,random_state=2)\n",
        "X_train, X_test, y_train, y_test = train_test_split(X, y, test_size=0.2, random_state=42)\n"
      ]
    },
    {
      "cell_type": "code",
      "execution_count": null,
      "metadata": {
        "colab": {
          "base_uri": "https://localhost:8080/",
          "height": 265
        },
        "id": "tJXFNxw7Cv4A",
        "outputId": "90619b22-b44c-4259-d184-97d844be5a61"
      },
      "outputs": [],
      "source": [
        "import matplotlib.pyplot as plt\n",
        "plt.scatter(X[:,0], X[:,1], c=y)\n",
        "plt.show()"
      ]
    },
    {
      "cell_type": "code",
      "execution_count": null,
      "metadata": {
        "colab": {
          "base_uri": "https://localhost:8080/"
        },
        "id": "wcHQFoH-C14o",
        "outputId": "dcfd5887-9ec4-4564-f7ce-32b156c33b75"
      },
      "outputs": [],
      "source": [
        "model1 = Sequential()\n",
        "\n",
        "model1.add(Dense(128,input_dim=2, activation=\"relu\"))\n",
        "model1.add(Dense(128, activation=\"relu\"))\n",
        "model1.add(Dense(1,activation='sigmoid'))\n",
        "\n",
        "model1.summary()"
      ]
    },
    {
      "cell_type": "code",
      "execution_count": null,
      "metadata": {
        "id": "vrGZEwyIC9aE"
      },
      "outputs": [],
      "source": [
        "adam = adam_v2.Adam(learning_rate=0.01)\n",
        "model1.compile(loss='binary_crossentropy', optimizer=adam, metrics=['accuracy'])\n",
        "\n",
        "#history1 = model1.fit(X, y, epochs=2000, validation_split = 0.2,verbose=0)\n",
        "history1=model1.fit(X_train, y_train, epochs=200,validation_data=(X_test, y_test),verbose=0)\n"
      ]
    },
    {
      "cell_type": "code",
      "execution_count": null,
      "metadata": {
        "colab": {
          "base_uri": "https://localhost:8080/",
          "height": 325
        },
        "id": "UfJedHLjDEyc",
        "outputId": "e896777a-14a6-446b-ce10-3a3d0316b8d5"
      },
      "outputs": [],
      "source": [
        "plot_decision_regions(X, y.astype('int'), clf=model1, legend=2)\n",
        "plt.xlim(-2,3)\n",
        "plt.ylim(-1.5,2)\n",
        "plt.show()"
      ]
    },
    {
      "cell_type": "code",
      "execution_count": null,
      "metadata": {
        "colab": {
          "base_uri": "https://localhost:8080/",
          "height": 283
        },
        "id": "40lIZPmeVPVw",
        "outputId": "ae6bffce-e2e7-41c9-f036-eb1f3aafed60"
      },
      "outputs": [],
      "source": [
        "plt.plot(history1.history['loss'])\n",
        "plt.plot(history1.history['val_loss'])"
      ]
    },
    {
      "cell_type": "code",
      "execution_count": null,
      "metadata": {
        "colab": {
          "base_uri": "https://localhost:8080/"
        },
        "id": "k8ZnOrbIvinp",
        "outputId": "c903d6d2-37c8-4890-9cdc-9931802c8f0a"
      },
      "outputs": [],
      "source": [
        "model2 = Sequential()\n",
        "\n",
        "model2.add(Dense(128,input_dim=2, activation=\"relu\",kernel_regularizer=tensorflow.keras.regularizers.l1(0.001)))\n",
        "model2.add(Dense(128, activation=\"relu\",kernel_regularizer=tensorflow.keras.regularizers.l1(0.001)))\n",
        "model2.add(Dense(1,activation='sigmoid'))\n",
        "\n",
        "model2.summary()"
      ]
    },
    {
      "cell_type": "code",
      "execution_count": null,
      "metadata": {
        "id": "HNjIkZe8whLV"
      },
      "outputs": [],
      "source": [
        "adam = Adam(learning_rate=0.01)\n",
        "model2.compile(loss='binary_crossentropy', optimizer=adam, metrics=['accuracy'])\n",
        "\n",
        "history2 = model2.fit(X, y, epochs=2000, validation_split = 0.2,verbose=0)"
      ]
    },
    {
      "cell_type": "code",
      "execution_count": null,
      "metadata": {
        "colab": {
          "base_uri": "https://localhost:8080/",
          "height": 325
        },
        "id": "ioRq1E3awj42",
        "outputId": "9e64e24c-5dad-4e89-d1d6-b73c7e8ab70a"
      },
      "outputs": [],
      "source": [
        "plot_decision_regions(X, y.astype('int'), clf=model2, legend=2)\n",
        "plt.xlim(-2,3)\n",
        "plt.ylim(-1.5,2)\n",
        "plt.show()"
      ]
    },
    {
      "cell_type": "code",
      "execution_count": null,
      "metadata": {
        "colab": {
          "base_uri": "https://localhost:8080/",
          "height": 283
        },
        "id": "njwsZuvWVyIT",
        "outputId": "9647c278-8802-437d-e966-f1f5dbf76d7b"
      },
      "outputs": [],
      "source": [
        "plt.plot(history2.history['loss'])\n",
        "plt.plot(history2.history['val_loss'])"
      ]
    },
    {
      "cell_type": "code",
      "execution_count": null,
      "metadata": {
        "id": "KyB5EBy8woTH"
      },
      "outputs": [],
      "source": [
        "model1_weight_layer1 = model1.get_weights()[0].reshape(256)\n",
        "model2_weight_layer1 = model2.get_weights()[0].reshape(256)"
      ]
    },
    {
      "cell_type": "code",
      "execution_count": null,
      "metadata": {
        "colab": {
          "base_uri": "https://localhost:8080/",
          "height": 338
        },
        "id": "jPX6myb14t2s",
        "outputId": "ac0ea0ab-33ee-444e-fd2f-eea646a92f4a"
      },
      "outputs": [],
      "source": [
        "sns.boxplot(model1_weight_layer1)"
      ]
    },
    {
      "cell_type": "code",
      "execution_count": null,
      "metadata": {
        "colab": {
          "base_uri": "https://localhost:8080/",
          "height": 338
        },
        "id": "vxusTpdV6icl",
        "outputId": "36ac536a-ded1-484e-d8bd-eaea2bcf7dce"
      },
      "outputs": [],
      "source": [
        "sns.boxplot(model2_weight_layer1)"
      ]
    },
    {
      "cell_type": "code",
      "execution_count": null,
      "metadata": {
        "colab": {
          "base_uri": "https://localhost:8080/"
        },
        "id": "X53hfLJV7bVq",
        "outputId": "91138486-2df5-4c85-b2e7-e41d11ee6ebb"
      },
      "outputs": [],
      "source": [
        "model1_weight_layer1.min()"
      ]
    },
    {
      "cell_type": "code",
      "execution_count": null,
      "metadata": {
        "colab": {
          "base_uri": "https://localhost:8080/"
        },
        "id": "PGrQUvX57erb",
        "outputId": "0b8512d6-0f55-4460-d89e-7480b3e9704c"
      },
      "outputs": [],
      "source": [
        "model2_weight_layer1.min()"
      ]
    },
    {
      "cell_type": "code",
      "execution_count": null,
      "metadata": {
        "colab": {
          "base_uri": "https://localhost:8080/",
          "height": 374
        },
        "id": "xwXhLZecZKHt",
        "outputId": "59383d5b-2f81-452d-da42-8cb5e0e01151"
      },
      "outputs": [],
      "source": [
        "sns.distplot(model1_weight_layer1)\n",
        "sns.distplot(model2_weight_layer1)"
      ]
    },
    {
      "cell_type": "code",
      "execution_count": null,
      "metadata": {
        "colab": {
          "base_uri": "https://localhost:8080/"
        },
        "id": "soM0qyWFZPdq",
        "outputId": "550e6a7e-9087-4e10-ee45-3d34bb8ee7df"
      },
      "outputs": [],
      "source": [
        "model1.get_weights()[0].reshape(256)"
      ]
    },
    {
      "cell_type": "code",
      "execution_count": null,
      "metadata": {
        "id": "-9V7hE0RbIZt"
      },
      "outputs": [],
      "source": []
    }
  ],
  "metadata": {
    "colab": {
      "provenance": []
    },
    "kernelspec": {
      "display_name": "Python 3",
      "name": "python3"
    },
    "language_info": {
      "codemirror_mode": {
        "name": "ipython",
        "version": 3
      },
      "file_extension": ".py",
      "mimetype": "text/x-python",
      "name": "python",
      "nbconvert_exporter": "python",
      "pygments_lexer": "ipython3",
      "version": "3.10.12"
    }
  },
  "nbformat": 4,
  "nbformat_minor": 0
}
